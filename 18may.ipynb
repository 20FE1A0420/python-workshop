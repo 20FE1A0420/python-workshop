{
 "cells": [
  {
   "cell_type": "markdown",
   "id": "bdfce500",
   "metadata": {},
   "source": [
    "# Heading1\n",
    "## Heading2\n",
    "### Heading3\n",
    "#### Heading4\n",
    "##### Heading5\n",
    "###### Heading6"
   ]
  },
  {
   "cell_type": "markdown",
   "id": "b15d20a1",
   "metadata": {},
   "source": [
    "**Bold**\n",
    "\n",
    "*Italic*\n",
    "\n",
    "***Bold and Italic***"
   ]
  },
  {
   "cell_type": "markdown",
   "id": "3eea8eb6",
   "metadata": {},
   "source": [
    "* Normal Text\n",
    "    * sublist1\n",
    "    * sublist2\n",
    "    * sublist3"
   ]
  },
  {
   "cell_type": "markdown",
   "id": "9a5c3201",
   "metadata": {},
   "source": [
    "<img src =\"appsdc.png\" width=\"300px\" height=\"150px\">"
   ]
  },
  {
   "cell_type": "markdown",
   "id": "61817def",
   "metadata": {},
   "source": [
    "### Comments in python\n",
    "1. Single line comment\n",
    "2. Multi line comment"
   ]
  },
  {
   "cell_type": "code",
   "execution_count": 6,
   "id": "4f14c7bb",
   "metadata": {},
   "outputs": [
    {
     "name": "stdout",
     "output_type": "stream",
     "text": [
      "Hello World\n"
     ]
    }
   ],
   "source": [
    "# single line comment\n",
    "\n",
    "\"\"\"\n",
    "multi\n",
    "line \n",
    "comment \n",
    "\"\"\"\n",
    "\n",
    "print(\"Hello World\")"
   ]
  },
  {
   "cell_type": "code",
   "execution_count": 8,
   "id": "9f8b1509",
   "metadata": {},
   "outputs": [
    {
     "name": "stdout",
     "output_type": "stream",
     "text": [
      " vaishu vaishu vaishu vaishu vaishu vaishu vaishu vaishu vaishu vaishu\n"
     ]
    }
   ],
   "source": [
    "print(10* \" vaishu\")"
   ]
  },
  {
   "cell_type": "code",
   "execution_count": 9,
   "id": "098a4362",
   "metadata": {},
   "outputs": [
    {
     "name": "stdout",
     "output_type": "stream",
     "text": [
      "vaishu\n",
      "vaishu\n",
      "vaishu\n",
      "vaishu\n",
      "vaishu\n",
      "vaishu\n",
      "vaishu\n",
      "vaishu\n",
      "vaishu\n",
      "vaishu\n",
      "\n"
     ]
    }
   ],
   "source": [
    "print(\"vaishu\\n\"*10)"
   ]
  },
  {
   "cell_type": "code",
   "execution_count": 13,
   "id": "c44d7cd2",
   "metadata": {},
   "outputs": [
    {
     "name": "stdout",
     "output_type": "stream",
     "text": [
      " vaishu\t vaishu\t vaishu\t vaishu\t vaishu\t\n"
     ]
    }
   ],
   "source": [
    "print(5* \" vaishu\\t\")"
   ]
  },
  {
   "cell_type": "markdown",
   "id": "4bcf0013",
   "metadata": {},
   "source": [
    "### Variables\n",
    "* A python variable is a reserved memory location to store values."
   ]
  },
  {
   "cell_type": "code",
   "execution_count": 16,
   "id": "24d3c9f2",
   "metadata": {},
   "outputs": [
    {
     "name": "stdout",
     "output_type": "stream",
     "text": [
      "12a01\n"
     ]
    }
   ],
   "source": [
    "a=12\n",
    "print('12a01')"
   ]
  },
  {
   "cell_type": "code",
   "execution_count": 14,
   "id": "85c0b41c",
   "metadata": {},
   "outputs": [
    {
     "name": "stdout",
     "output_type": "stream",
     "text": [
      "12\n",
      "a\n"
     ]
    }
   ],
   "source": [
    "a=12\n",
    "print(a)\n",
    "print(\"a\")"
   ]
  },
  {
   "cell_type": "code",
   "execution_count": 17,
   "id": "a243576d",
   "metadata": {},
   "outputs": [
    {
     "name": "stdout",
     "output_type": "stream",
     "text": [
      "123\n"
     ]
    }
   ],
   "source": [
    "a=123 # single variable assignment\n",
    "print(a)"
   ]
  },
  {
   "cell_type": "code",
   "execution_count": 18,
   "id": "870c8ea7",
   "metadata": {},
   "outputs": [
    {
     "name": "stdout",
     "output_type": "stream",
     "text": [
      "apssdc\n"
     ]
    }
   ],
   "source": [
    "a=\"apssdc\"\n",
    "print(a)"
   ]
  },
  {
   "cell_type": "code",
   "execution_count": 20,
   "id": "453164fc",
   "metadata": {},
   "outputs": [
    {
     "name": "stdout",
     "output_type": "stream",
     "text": [
      "12 10 3\n",
      "*********\n",
      "12 \n",
      " 10 \n",
      " 3\n"
     ]
    }
   ],
   "source": [
    "x,y,z  = 12,10,3 # multiple variable assignment\n",
    "print(x,y,z)\n",
    "print(\"*********\")\n",
    "print(x,'\\n',y,'\\n',z)"
   ]
  },
  {
   "cell_type": "markdown",
   "id": "80655bb9",
   "metadata": {},
   "source": [
    "### Python Keyword\n",
    "* Keywords are the reserved words in python.We cannot use a keyword as a variable name,funtion name or any other identifier.\n"
   ]
  },
  {
   "cell_type": "code",
   "execution_count": 2,
   "id": "b202b1ba",
   "metadata": {},
   "outputs": [
    {
     "name": "stdout",
     "output_type": "stream",
     "text": [
      "['False', 'None', 'True', 'and', 'as', 'assert', 'async', 'await', 'break', 'class', 'continue', 'def', 'del', 'elif', 'else', 'except', 'finally', 'for', 'from', 'global', 'if', 'import', 'in', 'is', 'lambda', 'nonlocal', 'not', 'or', 'pass', 'raise', 'return', 'try', 'while', 'with', 'yield']\n",
      "35\n"
     ]
    }
   ],
   "source": [
    "import keyword\n",
    "print(keyword.kwlist)\n",
    "l=keyword.kwlist\n",
    "print(len(l))"
   ]
  },
  {
   "cell_type": "code",
   "execution_count": null,
   "id": "0dc7d17b",
   "metadata": {},
   "outputs": [],
   "source": []
  },
  {
   "cell_type": "code",
   "execution_count": null,
   "id": "863393d4",
   "metadata": {},
   "outputs": [],
   "source": []
  }
 ],
 "metadata": {
  "kernelspec": {
   "display_name": "Python 3",
   "language": "python",
   "name": "python3"
  },
  "language_info": {
   "codemirror_mode": {
    "name": "ipython",
    "version": 3
   },
   "file_extension": ".py",
   "mimetype": "text/x-python",
   "name": "python",
   "nbconvert_exporter": "python",
   "pygments_lexer": "ipython3",
   "version": "3.8.8"
  }
 },
 "nbformat": 4,
 "nbformat_minor": 5
}
