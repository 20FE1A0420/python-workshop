{
 "cells": [
  {
   "cell_type": "markdown",
   "id": "29430f9e",
   "metadata": {},
   "source": [
    "### Today's Topics\n",
    "* break\n",
    "* continue\n",
    "* pass statements\n",
    "* while loop\n",
    "* strings"
   ]
  },
  {
   "cell_type": "code",
   "execution_count": 2,
   "id": "2895f9fa",
   "metadata": {},
   "outputs": [
    {
     "name": "stdout",
     "output_type": "stream",
     "text": [
      "python10\n",
      "programming10\n",
      "may10\n",
      "202110\n"
     ]
    }
   ],
   "source": [
    "l = [\"python\", \"programming\",\"may\",\"2021\"]\n",
    "\n",
    "for i in l:\n",
    "    print(i+str(10))"
   ]
  },
  {
   "cell_type": "code",
   "execution_count": 3,
   "id": "b0e8247c",
   "metadata": {},
   "outputs": [
    {
     "name": "stdout",
     "output_type": "stream",
     "text": [
      "0\n",
      "1\n",
      "2\n",
      "3\n"
     ]
    }
   ],
   "source": [
    "for i in range(0,len(l)):\n",
    "    print(i)"
   ]
  },
  {
   "cell_type": "code",
   "execution_count": 8,
   "id": "26e9c8f1",
   "metadata": {},
   "outputs": [
    {
     "name": "stdout",
     "output_type": "stream",
     "text": [
      "Python Programming"
     ]
    }
   ],
   "source": [
    "s=\"Python Programming\"\n",
    "for i in s:\n",
    "    print(i,end =\"\")"
   ]
  },
  {
   "cell_type": "code",
   "execution_count": 20,
   "id": "28487acc",
   "metadata": {},
   "outputs": [
    {
     "name": "stdout",
     "output_type": "stream",
     "text": [
      "hon Programming"
     ]
    }
   ],
   "source": [
    "for i in range(3,len(s)):\n",
    "    #print(i,end=\" \")\n",
    "    print(s[i],end=\"\")"
   ]
  },
  {
   "cell_type": "code",
   "execution_count": 21,
   "id": "44ade660",
   "metadata": {},
   "outputs": [
    {
     "name": "stdout",
     "output_type": "stream",
     "text": [
      "P n "
     ]
    }
   ],
   "source": [
    " for i in range(3,len(s)):\n",
    "        if i==16 or i==7:\n",
    "            print(s[i],end=\" \")"
   ]
  },
  {
   "cell_type": "markdown",
   "id": "c51f31db",
   "metadata": {},
   "source": [
    "### break statement\n"
   ]
  },
  {
   "cell_type": "code",
   "execution_count": 26,
   "id": "4e0b7918",
   "metadata": {},
   "outputs": [
    {
     "name": "stdout",
     "output_type": "stream",
     "text": [
      "may\n"
     ]
    }
   ],
   "source": [
    "for i in l:\n",
    "    if i==\"may\":\n",
    "        print(i)\n",
    "        break"
   ]
  },
  {
   "cell_type": "code",
   "execution_count": 25,
   "id": "7c9abfbd",
   "metadata": {},
   "outputs": [
    {
     "name": "stdout",
     "output_type": "stream",
     "text": [
      "python\n",
      "programming\n"
     ]
    }
   ],
   "source": [
    "for i in l:\n",
    "    if i==\"may\":\n",
    "        break\n",
    "    print(i)"
   ]
  },
  {
   "cell_type": "markdown",
   "id": "88665ecf",
   "metadata": {},
   "source": [
    "### continue"
   ]
  },
  {
   "cell_type": "code",
   "execution_count": 27,
   "id": "599e8717",
   "metadata": {},
   "outputs": [
    {
     "name": "stdout",
     "output_type": "stream",
     "text": [
      "python\n",
      "programming\n",
      "2021\n"
     ]
    }
   ],
   "source": [
    "for i in l:\n",
    "    if i==\"may\":\n",
    "        continue\n",
    "    print(i)"
   ]
  },
  {
   "cell_type": "code",
   "execution_count": 31,
   "id": "f2a027eb",
   "metadata": {},
   "outputs": [
    {
     "name": "stdout",
     "output_type": "stream",
     "text": [
      "python\n",
      "programming\n",
      "continue\n",
      "2021\n",
      "\n",
      "python\n",
      "programming\n",
      "Iam Learning Programme\n",
      "may\n",
      "2021\n"
     ]
    }
   ],
   "source": [
    "for i in l:\n",
    "    if i==\"may\":\n",
    "        print(\"continue\")\n",
    "        continue\n",
    "    print(i)\n",
    "print()\n",
    "for i in l:\n",
    "    if i==\"may\":\n",
    "        print(\"Iam Learning Programme\")\n",
    "        pass # break, continue\n",
    "    print(i)"
   ]
  },
  {
   "cell_type": "code",
   "execution_count": null,
   "id": "475ecdc6",
   "metadata": {},
   "outputs": [],
   "source": []
  }
 ],
 "metadata": {
  "kernelspec": {
   "display_name": "Python 3",
   "language": "python",
   "name": "python3"
  },
  "language_info": {
   "codemirror_mode": {
    "name": "ipython",
    "version": 3
   },
   "file_extension": ".py",
   "mimetype": "text/x-python",
   "name": "python",
   "nbconvert_exporter": "python",
   "pygments_lexer": "ipython3",
   "version": "3.8.8"
  }
 },
 "nbformat": 4,
 "nbformat_minor": 5
}
