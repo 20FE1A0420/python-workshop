{
 "cells": [
  {
   "cell_type": "markdown",
   "id": "d4e95806",
   "metadata": {},
   "source": [
    "### Data Types and Conversions\n",
    "1. int\n",
    "2. float\n",
    "3. string"
   ]
  },
  {
   "cell_type": "code",
   "execution_count": 5,
   "id": "fe1290d7",
   "metadata": {},
   "outputs": [
    {
     "name": "stdout",
     "output_type": "stream",
     "text": [
      "n1= 13\n"
     ]
    },
    {
     "data": {
      "text/plain": [
       "int"
      ]
     },
     "execution_count": 5,
     "metadata": {},
     "output_type": "execute_result"
    }
   ],
   "source": [
    "n1 = 13\n",
    "print(\"n1=\",n1)\n",
    "type(n1)"
   ]
  },
  {
   "cell_type": "code",
   "execution_count": 6,
   "id": "5cf46125",
   "metadata": {},
   "outputs": [
    {
     "name": "stdout",
     "output_type": "stream",
     "text": [
      "n2= 13.56\n"
     ]
    },
    {
     "data": {
      "text/plain": [
       "float"
      ]
     },
     "execution_count": 6,
     "metadata": {},
     "output_type": "execute_result"
    }
   ],
   "source": [
    "n2 = 13.56\n",
    "print(\"n2=\",n2)\n",
    "type(n2)"
   ]
  },
  {
   "cell_type": "code",
   "execution_count": 8,
   "id": "672a73cc",
   "metadata": {},
   "outputs": [
    {
     "name": "stdout",
     "output_type": "stream",
     "text": [
      "s= apssdc\n"
     ]
    },
    {
     "data": {
      "text/plain": [
       "str"
      ]
     },
     "execution_count": 8,
     "metadata": {},
     "output_type": "execute_result"
    }
   ],
   "source": [
    "s=\"apssdc\"\n",
    "print(\"s=\",s)\n",
    "type(s)"
   ]
  },
  {
   "cell_type": "code",
   "execution_count": 10,
   "id": "5261c34a",
   "metadata": {},
   "outputs": [
    {
     "name": "stdout",
     "output_type": "stream",
     "text": [
      "<class 'int'>\n",
      "<class 'int'>\n"
     ]
    }
   ],
   "source": [
    "n =13\n",
    "m =4\n",
    "print(type(m))\n",
    "print(type(n))"
   ]
  },
  {
   "cell_type": "code",
   "execution_count": 11,
   "id": "bf14f7ca",
   "metadata": {},
   "outputs": [
    {
     "name": "stdout",
     "output_type": "stream",
     "text": [
      "<class 'int'>\n",
      "<class 'str'>\n"
     ]
    }
   ],
   "source": [
    "n =13\n",
    "print(type(n))\n",
    "print(type(str(n)))"
   ]
  },
  {
   "cell_type": "code",
   "execution_count": 12,
   "id": "161108b7",
   "metadata": {},
   "outputs": [
    {
     "name": "stdout",
     "output_type": "stream",
     "text": [
      "<class 'str'>\n"
     ]
    }
   ],
   "source": [
    "n1 = 23\n",
    "s =str(n1)\n",
    "print(type(s))"
   ]
  },
  {
   "cell_type": "code",
   "execution_count": 13,
   "id": "bdad7349",
   "metadata": {},
   "outputs": [
    {
     "name": "stdout",
     "output_type": "stream",
     "text": [
      "1210\n"
     ]
    }
   ],
   "source": [
    "num1 =\"12\" # As it is considered as string ,concatenation occured instead of sum\n",
    "num2 =\"10\"\n",
    "print(num1+num2)"
   ]
  },
  {
   "cell_type": "code",
   "execution_count": 14,
   "id": "64b026ee",
   "metadata": {},
   "outputs": [
    {
     "name": "stdout",
     "output_type": "stream",
     "text": [
      "25.9\n"
     ]
    }
   ],
   "source": [
    "n1 = 12.3\n",
    "n2= 13.6\n",
    "print(n1+n2)"
   ]
  },
  {
   "cell_type": "markdown",
   "id": "19c9a1b2",
   "metadata": {},
   "source": [
    "### Indentation"
   ]
  },
  {
   "cell_type": "code",
   "execution_count": 16,
   "id": "731a088d",
   "metadata": {},
   "outputs": [
    {
     "name": "stdout",
     "output_type": "stream",
     "text": [
      "n1 is greater than  n2\n"
     ]
    }
   ],
   "source": [
    "n1,n2 = 13,12\n",
    "if(n1>n2):\n",
    "    print(\"n1 is greater than  n2\")\n",
    "else:\n",
    "    print(\"wrong statement\")"
   ]
  },
  {
   "cell_type": "markdown",
   "id": "1a515fe9",
   "metadata": {},
   "source": [
    "### Reading input Dynamically"
   ]
  },
  {
   "cell_type": "code",
   "execution_count": 17,
   "id": "4370cfe7",
   "metadata": {},
   "outputs": [
    {
     "name": "stdout",
     "output_type": "stream",
     "text": [
      "123\n",
      "123\n",
      "<class 'str'>\n"
     ]
    }
   ],
   "source": [
    "x = input()\n",
    "print(x)\n",
    "print(type(x))"
   ]
  },
  {
   "cell_type": "code",
   "execution_count": 21,
   "id": "093ad7d1",
   "metadata": {},
   "outputs": [
    {
     "name": "stdout",
     "output_type": "stream",
     "text": [
      "enter a value:123\n",
      "123\n",
      "<class 'int'>\n"
     ]
    }
   ],
   "source": [
    "n = int(input(\"enter a value:\"))\n",
    "print(n)\n",
    "print(type(n))"
   ]
  },
  {
   "cell_type": "code",
   "execution_count": 20,
   "id": "79abe11a",
   "metadata": {},
   "outputs": [
    {
     "name": "stdout",
     "output_type": "stream",
     "text": [
      "<class 'int'>\n",
      "<class 'float'>\n",
      "123\n",
      "123.0\n"
     ]
    }
   ],
   "source": [
    "a=123\n",
    "print(type(a))\n",
    "f= float(a)\n",
    "print(type(f))\n",
    "print(a)\n",
    "print(f)"
   ]
  },
  {
   "cell_type": "markdown",
   "id": "64bcfe7a",
   "metadata": {},
   "source": [
    "### Operators\n",
    "1. Assignment operators\n",
    "2. Arithmetic operators\n",
    "3. Comparison operators\n",
    "4. Logical operators\n",
    "5. Identity operators\n",
    "6. Membership operators\n",
    "7. Bitwise operators"
   ]
  },
  {
   "cell_type": "markdown",
   "id": "89ee4008",
   "metadata": {},
   "source": [
    "### 1. Arithmetic operators\n",
    "- +,-,*,/,%,//,**"
   ]
  },
  {
   "cell_type": "code",
   "execution_count": 22,
   "id": "afa94b25",
   "metadata": {},
   "outputs": [
    {
     "name": "stdout",
     "output_type": "stream",
     "text": [
      "a+b= 8\n",
      "a-b= 2\n",
      "a/b= 1.6666666666666667\n",
      "a*b= 15\n",
      "a%b= 2\n",
      "a//b= 1\n",
      "a**b= 125\n"
     ]
    }
   ],
   "source": [
    "a,b =5,3\n",
    "print(\"a+b=\",5+3)\n",
    "print(\"a-b=\",5-3)\n",
    "print(\"a/b=\",5/3)\n",
    "print(\"a*b=\",5*3)\n",
    "print(\"a%b=\",5%3)\n",
    "print(\"a//b=\",5//3)\n",
    "print(\"a**b=\",5**3)  #5*5*5"
   ]
  },
  {
   "cell_type": "markdown",
   "id": "683ce76e",
   "metadata": {},
   "source": [
    "### 2.Assignment operators\n",
    "- =,+=,-=,*= etc.,"
   ]
  },
  {
   "cell_type": "code",
   "execution_count": 28,
   "id": "b03c75f7",
   "metadata": {},
   "outputs": [
    {
     "name": "stdout",
     "output_type": "stream",
     "text": [
      "12\n",
      "a+= 13\n",
      "a-= 12\n"
     ]
    }
   ],
   "source": [
    "a= 12\n",
    "print(a)\n",
    "a+= 1    #a=a+1=13\n",
    "print(\"a+=\",a)\n",
    "a-= 1\n",
    "print(\"a-=\",a)\n"
   ]
  },
  {
   "cell_type": "markdown",
   "id": "16a0f3f4",
   "metadata": {},
   "source": [
    "### 3. Comparison operators\n",
    "- ==,>,<,>=,<=,!="
   ]
  },
  {
   "cell_type": "code",
   "execution_count": 31,
   "id": "5557e372",
   "metadata": {},
   "outputs": [
    {
     "name": "stdout",
     "output_type": "stream",
     "text": [
      "False\n",
      "True\n"
     ]
    }
   ],
   "source": [
    "n1,n2 =5,3\n",
    "print(n1==n2)\n",
    "print(n1!=n2)"
   ]
  },
  {
   "cell_type": "markdown",
   "id": "25f13bcb",
   "metadata": {},
   "source": [
    "### 4. Logical operators\n",
    "- and,or,not"
   ]
  },
  {
   "cell_type": "code",
   "execution_count": 36,
   "id": "5ed040c8",
   "metadata": {},
   "outputs": [
    {
     "name": "stdout",
     "output_type": "stream",
     "text": [
      "True\n",
      "True\n",
      "False\n"
     ]
    }
   ],
   "source": [
    "a=5\n",
    "print(a<6 and a>2)\n",
    "print(a<6 or a>2)\n",
    "res =a<6 or a>2\n",
    "print(not(res))"
   ]
  },
  {
   "cell_type": "markdown",
   "id": "513ae1de",
   "metadata": {},
   "source": [
    "### 5 . Identity operators\n",
    "- is, is not"
   ]
  },
  {
   "cell_type": "code",
   "execution_count": 37,
   "id": "3d08f3b4",
   "metadata": {},
   "outputs": [
    {
     "name": "stdout",
     "output_type": "stream",
     "text": [
      "False\n",
      "True\n"
     ]
    }
   ],
   "source": [
    "x,y= 5,3\n",
    "print(x is y)\n",
    "print(x is not y)"
   ]
  },
  {
   "cell_type": "code",
   "execution_count": 38,
   "id": "458553c4",
   "metadata": {},
   "outputs": [
    {
     "name": "stdout",
     "output_type": "stream",
     "text": [
      "True\n",
      "False\n"
     ]
    }
   ],
   "source": [
    "a,b=6,6\n",
    "print( a is b)\n",
    "print( a is not b)"
   ]
  },
  {
   "cell_type": "markdown",
   "id": "c0ad0842",
   "metadata": {},
   "source": [
    "### 6. Membership operators\n",
    "- in,not in"
   ]
  },
  {
   "cell_type": "code",
   "execution_count": 43,
   "id": "218bf5b7",
   "metadata": {},
   "outputs": [
    {
     "name": "stdout",
     "output_type": "stream",
     "text": [
      "True\n",
      "True\n",
      "False\n"
     ]
    }
   ],
   "source": [
    "fruits = [\"apples\",\"mangoes\", \"guava\"]\n",
    "print('apples' in fruits)\n",
    "print('banana' not in fruits)\n",
    "print('banana' in fruits)"
   ]
  },
  {
   "cell_type": "markdown",
   "id": "7aebb5b6",
   "metadata": {},
   "source": [
    "### 7. Bitwise operators\n",
    "- &,|,^,>>,<<,~"
   ]
  },
  {
   "cell_type": "code",
   "execution_count": 46,
   "id": "a6ba37a1",
   "metadata": {},
   "outputs": [
    {
     "name": "stdout",
     "output_type": "stream",
     "text": [
      "1\n",
      "7\n"
     ]
    }
   ],
   "source": [
    "print(5 & 3)\n",
    "print(5 | 3)"
   ]
  },
  {
   "cell_type": "code",
   "execution_count": null,
   "id": "b6569233",
   "metadata": {},
   "outputs": [],
   "source": []
  }
 ],
 "metadata": {
  "kernelspec": {
   "display_name": "Python 3",
   "language": "python",
   "name": "python3"
  },
  "language_info": {
   "codemirror_mode": {
    "name": "ipython",
    "version": 3
   },
   "file_extension": ".py",
   "mimetype": "text/x-python",
   "name": "python",
   "nbconvert_exporter": "python",
   "pygments_lexer": "ipython3",
   "version": "3.8.8"
  }
 },
 "nbformat": 4,
 "nbformat_minor": 5
}
