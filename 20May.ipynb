{
 "cells": [
  {
   "cell_type": "markdown",
   "id": "d582a985",
   "metadata": {},
   "source": [
    "### Conditional Statements\n",
    "- if\n",
    "- elif\n",
    "- else\n",
    "- Nested if"
   ]
  },
  {
   "cell_type": "code",
   "execution_count": 3,
   "id": "452c338e",
   "metadata": {},
   "outputs": [
    {
     "name": "stdout",
     "output_type": "stream",
     "text": [
      "a is greater than b\n"
     ]
    }
   ],
   "source": [
    "a,b = 12,10\n",
    "if (a>b):\n",
    "    print(\"a is greater than b\")\n",
    "else:\n",
    "    print(\"a is less than b\")"
   ]
  },
  {
   "cell_type": "code",
   "execution_count": 6,
   "id": "f302a591",
   "metadata": {},
   "outputs": [
    {
     "name": "stdout",
     "output_type": "stream",
     "text": [
      "enter 1st number:13\n",
      "enter 2nd number:6\n",
      "enter 3rd number:-5\n",
      "n1 is big number\n"
     ]
    }
   ],
   "source": [
    "n1 = int(input(\"enter 1st number:\")) \n",
    "n2 = int(input(\"enter 2nd number:\")) \n",
    "n3 = int(input(\"enter 3rd number:\"))\n",
    "if(n1>n2 and n1>n3):\n",
    "    print(\"n1 is big number\")\n",
    "elif(n2>n1 and n2>n3):\n",
    "    print(\"n2 is big number\")\n",
    "else:\n",
    "    print(\"n3 is big number\")"
   ]
  },
  {
   "cell_type": "code",
   "execution_count": 7,
   "id": "081f13bb",
   "metadata": {},
   "outputs": [
    {
     "name": "stdout",
     "output_type": "stream",
     "text": [
      "enter the number:3\n",
      "odd number\n"
     ]
    }
   ],
   "source": [
    "n= int(input(\"enter the number:\"))\n",
    "if(n%2==0):\n",
    "    print(\"even number\")\n",
    "else:\n",
    "    print(\"odd number\")"
   ]
  },
  {
   "cell_type": "markdown",
   "id": "46e55159",
   "metadata": {},
   "source": [
    "### Nested if"
   ]
  },
  {
   "cell_type": "code",
   "execution_count": 13,
   "id": "b13dc9a4",
   "metadata": {},
   "outputs": [
    {
     "name": "stdout",
     "output_type": "stream",
     "text": [
      "Enter a number:-5\n",
      "-5 is not a positive number\n"
     ]
    }
   ],
   "source": [
    "n =int(input(\"Enter a number:\"))\n",
    "if(n==0):\n",
    "    if(n%2==0):\n",
    "        print(n,\"is even number\")\n",
    "    if(n%2 !=0):\n",
    "        print(n,\"is odd number\")\n",
    "else:\n",
    "    print(n,\"is not a positive number\")"
   ]
  },
  {
   "cell_type": "code",
   "execution_count": 14,
   "id": "d17504f3",
   "metadata": {},
   "outputs": [
    {
     "name": "stdout",
     "output_type": "stream",
     "text": [
      "Enter a number:4\n",
      "4 is even number\n"
     ]
    }
   ],
   "source": [
    "n =int(input(\"Enter a number:\"))\n",
    "if(n !=0 and not (n<0)):\n",
    "    if(n%2==0):\n",
    "        print(n,\"is even number\")\n",
    "    if(n%2 !=0):\n",
    "        print(n,\"is odd number\")\n",
    "else:\n",
    "    print(n,\"is not a positive number\")"
   ]
  },
  {
   "cell_type": "markdown",
   "id": "9cdd4009",
   "metadata": {},
   "source": [
    "### Looping  statements\n",
    "- A for loop is used for iterating over a sequence( list, tuple, dictionary, a set, or string)"
   ]
  },
  {
   "cell_type": "code",
   "execution_count": 15,
   "id": "9ae0bfed",
   "metadata": {},
   "outputs": [
    {
     "name": "stdout",
     "output_type": "stream",
     "text": [
      "0\n",
      "1\n",
      "2\n",
      "3\n",
      "4\n"
     ]
    }
   ],
   "source": [
    " for i in range(5): # 0 to n-1\n",
    "        print(i)"
   ]
  },
  {
   "cell_type": "code",
   "execution_count": 16,
   "id": "a63f32ab",
   "metadata": {},
   "outputs": [
    {
     "name": "stdout",
     "output_type": "stream",
     "text": [
      "1\n",
      "2\n",
      "3\n",
      "4\n"
     ]
    }
   ],
   "source": [
    "for i in range(1,5):\n",
    "    print(i)"
   ]
  },
  {
   "cell_type": "code",
   "execution_count": 18,
   "id": "38fefd6f",
   "metadata": {},
   "outputs": [
    {
     "name": "stdout",
     "output_type": "stream",
     "text": [
      "1 3 5 7 9 "
     ]
    }
   ],
   "source": [
    "for i in range(1,10,2):\n",
    "    print(i,end=\" \")"
   ]
  },
  {
   "cell_type": "code",
   "execution_count": 20,
   "id": "9ef1e01e",
   "metadata": {},
   "outputs": [
    {
     "name": "stdout",
     "output_type": "stream",
     "text": [
      "2\n",
      "4\n",
      "6\n",
      "8\n",
      "10\n"
     ]
    }
   ],
   "source": [
    "for i in range(2,11,2):\n",
    "    print(i)"
   ]
  },
  {
   "cell_type": "code",
   "execution_count": 21,
   "id": "482ddae2",
   "metadata": {},
   "outputs": [
    {
     "name": "stdout",
     "output_type": "stream",
     "text": [
      "10\n",
      "9\n",
      "8\n",
      "7\n",
      "6\n",
      "5\n",
      "4\n",
      "3\n",
      "2\n",
      "1\n"
     ]
    }
   ],
   "source": [
    "for i in range(10,0,-1):\n",
    "    print(i)"
   ]
  },
  {
   "cell_type": "code",
   "execution_count": 22,
   "id": "e4ac5336",
   "metadata": {},
   "outputs": [
    {
     "name": "stdout",
     "output_type": "stream",
     "text": [
      "1\n",
      "5\n",
      "2\n",
      "8\n",
      "10\n"
     ]
    }
   ],
   "source": [
    "lst=[1,5,2,8,10]\n",
    "for j in lst:\n",
    "    print(j)"
   ]
  },
  {
   "cell_type": "code",
   "execution_count": 23,
   "id": "dd64f689",
   "metadata": {},
   "outputs": [
    {
     "name": "stdout",
     "output_type": "stream",
     "text": [
      "apples\n",
      "banana\n",
      "guava\n",
      "cherry\n"
     ]
    }
   ],
   "source": [
    "fruits =(\"apples\",\"banana\",\"guava\",\"cherry\")\n",
    "for i in fruits:\n",
    "    print(i)"
   ]
  },
  {
   "cell_type": "code",
   "execution_count": null,
   "id": "c48a892c",
   "metadata": {},
   "outputs": [],
   "source": []
  }
 ],
 "metadata": {
  "kernelspec": {
   "display_name": "Python 3",
   "language": "python",
   "name": "python3"
  },
  "language_info": {
   "codemirror_mode": {
    "name": "ipython",
    "version": 3
   },
   "file_extension": ".py",
   "mimetype": "text/x-python",
   "name": "python",
   "nbconvert_exporter": "python",
   "pygments_lexer": "ipython3",
   "version": "3.8.8"
  }
 },
 "nbformat": 4,
 "nbformat_minor": 5
}
